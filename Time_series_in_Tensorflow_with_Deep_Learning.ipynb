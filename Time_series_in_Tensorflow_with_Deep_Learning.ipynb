{
  "cells": [
    {
      "cell_type": "markdown",
      "metadata": {
        "id": "jAz2_oOh9nWf"
      },
      "source": [
        "Instructions for students:\n",
        "\n",
        "Change the colab runtime type to 'T4 GPU' for this notebook.\n",
        "\n",
        "Run each cell in this notebook, one by one, reading the comment above the cell first. This will aid in understanding what the code is doing.\n",
        "\n",
        "After running all cells, you can compare the MAE of your deep learning model with that of other models or baseline methods. Additionally, you can fine-tune hyperparameters, adjust model architecture, or preprocess the data differently to try and improve the MAE."
      ]
    },
    {
      "cell_type": "markdown",
      "metadata": {
        "id": "q3X9PC639nWg"
      },
      "source": [
        "# Deep learning for timeseries"
      ]
    },
    {
      "cell_type": "markdown",
      "metadata": {
        "id": "y8EIZYdj9nWg"
      },
      "source": [
        "## A temperature-forecasting example\n",
        "\n",
        "In this example, we aim to predict the temperature 24 hours in the future."
      ]
    },
    {
      "cell_type": "code",
      "execution_count": null,
      "metadata": {
        "colab": {
          "base_uri": "https://localhost:8080/"
        },
        "id": "VQ9SDlaB9nWg",
        "outputId": "1b624208-ae7a-42e1-950c-3b2b3c2cfcfb"
      },
      "outputs": [
        {
          "output_type": "stream",
          "name": "stdout",
          "text": [
            "--2024-05-21 19:14:25--  https://s3.amazonaws.com/keras-datasets/jena_climate_2009_2016.csv.zip\n",
            "Resolving s3.amazonaws.com (s3.amazonaws.com)... 52.217.67.22, 52.216.32.112, 16.182.68.72, ...\n",
            "Connecting to s3.amazonaws.com (s3.amazonaws.com)|52.217.67.22|:443... connected.\n",
            "HTTP request sent, awaiting response... 200 OK\n",
            "Length: 13565642 (13M) [application/zip]\n",
            "Saving to: ‘jena_climate_2009_2016.csv.zip’\n",
            "\n",
            "jena_climate_2009_2 100%[===================>]  12.94M  5.94MB/s    in 2.2s    \n",
            "\n",
            "2024-05-21 19:14:29 (5.94 MB/s) - ‘jena_climate_2009_2016.csv.zip’ saved [13565642/13565642]\n",
            "\n",
            "Archive:  jena_climate_2009_2016.csv.zip\n",
            "  inflating: jena_climate_2009_2016.csv  \n",
            "  inflating: __MACOSX/._jena_climate_2009_2016.csv  \n"
          ]
        }
      ],
      "source": [
        "!wget https://s3.amazonaws.com/keras-datasets/jena_climate_2009_2016.csv.zip\n",
        "!unzip jena_climate_2009_2016.csv.zip"
      ]
    },
    {
      "cell_type": "markdown",
      "metadata": {
        "id": "Ovkvytzx9nWh"
      },
      "source": [
        "**Inspecting the data of the Jena weather dataset**\n",
        "\n",
        "Jena Climate is weather timeseries dataset recorded at the Weather Station of the Max Planck Institute for Biogeochemistry in Jena, Germany.\n",
        "\n",
        "Jena Climate dataset is made up of 14 different quantities (such air temperature, atmospheric pressure, humidity, wind direction, and so on) were recorded every 10 minutes, over several years. This dataset covers data from January 1st 2009 to December 31st 2016.\n",
        "\n",
        "For more information, please go to:\n",
        "https://www.kaggle.com/datasets/mnassrib/jena-climate"
      ]
    },
    {
      "cell_type": "code",
      "execution_count": null,
      "metadata": {
        "colab": {
          "base_uri": "https://localhost:8080/"
        },
        "id": "DMzHGcwt9nWh",
        "outputId": "489b35e7-23da-48d3-8097-225588151533"
      },
      "outputs": [
        {
          "output_type": "stream",
          "name": "stdout",
          "text": [
            "['\"Date Time\"', '\"p (mbar)\"', '\"T (degC)\"', '\"Tpot (K)\"', '\"Tdew (degC)\"', '\"rh (%)\"', '\"VPmax (mbar)\"', '\"VPact (mbar)\"', '\"VPdef (mbar)\"', '\"sh (g/kg)\"', '\"H2OC (mmol/mol)\"', '\"rho (g/m**3)\"', '\"wv (m/s)\"', '\"max. wv (m/s)\"', '\"wd (deg)\"']\n",
            "420451\n"
          ]
        }
      ],
      "source": [
        "import os\n",
        "fname = os.path.join(\"jena_climate_2009_2016.csv\")\n",
        "\n",
        "with open(fname) as f:\n",
        "    data = f.read()\n",
        "\n",
        "lines = data.split(\"\\n\")\n",
        "header = lines[0].split(\",\")\n",
        "lines = lines[1:]\n",
        "print(header)\n",
        "print(len(lines))"
      ]
    },
    {
      "cell_type": "markdown",
      "metadata": {
        "id": "-spMVD479nWh"
      },
      "source": [
        "**Parsing the data**"
      ]
    },
    {
      "cell_type": "code",
      "execution_count": null,
      "metadata": {
        "id": "Xb9iCvZP9nWh"
      },
      "outputs": [],
      "source": [
        "import numpy as np\n",
        "temperature = np.zeros((len(lines),))\n",
        "raw_data = np.zeros((len(lines), len(header) - 1))\n",
        "for i, line in enumerate(lines):\n",
        "    values = [float(x) for x in line.split(\",\")[1:]]\n",
        "    temperature[i] = values[1]\n",
        "    raw_data[i, :] = values[:]"
      ]
    },
    {
      "cell_type": "markdown",
      "metadata": {
        "id": "D0Ivta3N9nWh"
      },
      "source": [
        "**Plotting the temperature timeseries**"
      ]
    },
    {
      "cell_type": "code",
      "execution_count": null,
      "metadata": {
        "colab": {
          "base_uri": "https://localhost:8080/",
          "height": 451
        },
        "id": "8caFV7uT9nWi",
        "outputId": "d54ddaa5-3b62-4751-d232-cbe7d3cc52e3"
      },
      "outputs": [
        {
          "output_type": "execute_result",
          "data": {
            "text/plain": [
              "[<matplotlib.lines.Line2D at 0x7bef88b1de10>]"
            ]
          },
          "metadata": {},
          "execution_count": 4
        },
        {
          "output_type": "display_data",
          "data": {
            "text/plain": [
              "<Figure size 640x480 with 1 Axes>"
            ],
            "image/png": "[encoded data removed]"
          },
          "metadata": {}
        }
      ],
      "source": [
        "from matplotlib import pyplot as plt\n",
        "plt.plot(range(len(temperature)), temperature)"
      ]
    },
    {
      "cell_type": "markdown",
      "metadata": {
        "id": "elM-zV3V9nWi"
      },
      "source": [
        "**Plotting the first 10 days of the temperature timeseries**"
      ]
    },
    {
      "cell_type": "code",
      "execution_count": null,
      "metadata": {
        "colab": {
          "base_uri": "https://localhost:8080/",
          "height": 447
        },
        "id": "1DzUYyNb9nWi",
        "outputId": "2ffe8b6d-715b-44cc-c3a8-464668d95b3b"
      },
      "outputs": [
        {
          "output_type": "execute_result",
          "data": {
            "text/plain": [
              "[<matplotlib.lines.Line2D at 0x7bef588a3c10>]"
            ]
          },
          "metadata": {},
          "execution_count": 5
        },
        {
          "output_type": "display_data",
          "data": {
            "text/plain": [
              "<Figure size 640x480 with 1 Axes>"
            ],
            "image/png": "[encoded data removed]"
          },
          "metadata": {}
        }
      ],
      "source": [
        "plt.plot(range(1440), temperature[:1440])"
      ]
    },
    {
      "cell_type": "markdown",
      "metadata": {
        "id": "gsW_dRko9nWi"
      },
      "source": [
        "**Computing the number of samples we'll use for each data split**"
      ]
    },
    {
      "cell_type": "code",
      "execution_count": null,
      "metadata": {
        "colab": {
          "base_uri": "https://localhost:8080/"
        },
        "id": "Jj_H6SpJ9nWi",
        "outputId": "b6e0a9dd-495e-4385-d388-6655c6c4d634"
      },
      "outputs": [
        {
          "output_type": "stream",
          "name": "stdout",
          "text": [
            "num_train_samples: 210225\n",
            "num_val_samples: 105112\n",
            "num_test_samples: 105114\n"
          ]
        }
      ],
      "source": [
        "num_train_samples = int(0.5 * len(raw_data))\n",
        "num_val_samples = int(0.25 * len(raw_data))\n",
        "num_test_samples = len(raw_data) - num_train_samples - num_val_samples\n",
        "print(\"num_train_samples:\", num_train_samples)\n",
        "print(\"num_val_samples:\", num_val_samples)\n",
        "print(\"num_test_samples:\", num_test_samples)"
      ]
    },
    {
      "cell_type": "markdown",
      "metadata": {
        "id": "7eNRQCwr9nWi"
      },
      "source": [
        "### Preparing the data"
      ]
    },
    {
      "cell_type": "markdown",
      "metadata": {
        "id": "pGGw-aYP9nWi"
      },
      "source": [
        "**Normalizing the data**\n",
        "\n",
        "Normalizing data is crucial for deep learning for several reasons:\n",
        "\n",
        "Improved convergence: Normalizing data helps in speeding up the convergence of gradient-based optimization algorithms, such as stochastic gradient descent (SGD). When features are on different scales, the optimization process can be slowed down, as the gradients corresponding to different features may vary significantly. Normalization scales all features to a similar range, which helps the optimization algorithm converge faster.\n",
        "\n",
        "Better generalization: Normalizing data can prevent the model from being biased towards features with larger magnitudes. Without normalization, features with larger scales may dominate the learning process, leading to a model that performs poorly on unseen data. Normalization ensures that all features contribute equally to the learning process, resulting in a model that generalizes better to new data.\n",
        "\n",
        "Stability: Normalizing data helps in stabilizing the training process. Deep neural networks are sensitive to the scale of input features, and normalizing data prevents extreme values from causing numerical stability issues during training. This stability ensures that the model learns meaningful patterns from the data without being affected by outliers or extreme values."
      ]
    },
    {
      "cell_type": "code",
      "execution_count": null,
      "metadata": {
        "id": "XxFFzIRf9nWi"
      },
      "outputs": [],
      "source": [
        "mean = raw_data[:num_train_samples].mean(axis=0)\n",
        "raw_data -= mean\n",
        "std = raw_data[:num_train_samples].std(axis=0)\n",
        "raw_data /= std"
      ]
    },
    {
      "cell_type": "code",
      "execution_count": null,
      "metadata": {
        "colab": {
          "base_uri": "https://localhost:8080/"
        },
        "id": "BFhnk-QN9nWj",
        "outputId": "eefe6cab-77e8-4bd4-aa26-d10c37970b67"
      },
      "outputs": [
        {
          "output_type": "execute_result",
          "data": {
            "text/plain": [
              "array([ 988.74929466,    8.82590329,  282.9050718 ,    4.31331863,\n",
              "         75.87275476,   13.14569946,    9.19414209,    3.95148184,\n",
              "          5.81050741,    9.30208943, 1218.45204015,    2.14977462,\n",
              "          3.56048029,  176.4405232 ])"
            ]
          },
          "metadata": {},
          "execution_count": 8
        }
      ],
      "source": [
        "mean"
      ]
    },
    {
      "cell_type": "code",
      "execution_count": null,
      "metadata": {
        "colab": {
          "base_uri": "https://localhost:8080/"
        },
        "id": "PXXQ0uMV9nWj",
        "outputId": "692a71c3-535f-4899-8ed3-e40df2c82dc3"
      },
      "outputs": [
        {
          "output_type": "execute_result",
          "data": {
            "text/plain": [
              "array([ 8.50510865,  8.77098361,  8.86560463,  7.08011256, 16.62877917,\n",
              "        7.6012955 ,  4.14689697,  4.76961017,  2.63277288,  4.1996886 ,\n",
              "       42.0392747 ,  1.53358803,  2.32305586, 85.85032063])"
            ]
          },
          "metadata": {},
          "execution_count": 9
        }
      ],
      "source": [
        "std"
      ]
    },
    {
      "cell_type": "markdown",
      "metadata": {
        "id": "24XzhMWEB6MW"
      },
      "source": [
        "Create sequences of input data, where each sequence contains a window of historical temperature data along with corresponding target temperatures."
      ]
    },
    {
      "cell_type": "code",
      "execution_count": null,
      "metadata": {
        "colab": {
          "base_uri": "https://localhost:8080/"
        },
        "id": "KbppC2T99nWj",
        "outputId": "28548e87-000a-4c94-bc73-0777d07592c0"
      },
      "outputs": [
        {
          "output_type": "stream",
          "name": "stdout",
          "text": [
            "[0, 1, 2] 3\n",
            "[1, 2, 3] 4\n",
            "[2, 3, 4] 5\n",
            "[3, 4, 5] 6\n",
            "[4, 5, 6] 7\n"
          ]
        }
      ],
      "source": [
        "import numpy as np\n",
        "from tensorflow import keras\n",
        "int_sequence = np.arange(10)\n",
        "dummy_dataset = keras.utils.timeseries_dataset_from_array(\n",
        "    data=int_sequence[:-3],\n",
        "    targets=int_sequence[3:],\n",
        "    sequence_length=3,\n",
        "    batch_size=2,\n",
        ")\n",
        "\n",
        "for inputs, targets in dummy_dataset:\n",
        "    for i in range(inputs.shape[0]):\n",
        "        print([int(x) for x in inputs[i]], int(targets[i]))"
      ]
    },
    {
      "cell_type": "code",
      "execution_count": null,
      "metadata": {
        "colab": {
          "base_uri": "https://localhost:8080/"
        },
        "id": "8k2PxOTh0MF-",
        "outputId": "a91cce4d-aaf7-4197-b775-54b9c230e22a"
      },
      "outputs": [
        {
          "output_type": "stream",
          "name": "stdout",
          "text": [
            "[0, 1, 2] 5\n",
            "[1, 2, 3] 6\n",
            "[2, 3, 4] 7\n"
          ]
        }
      ],
      "source": [
        "import numpy as np\n",
        "from tensorflow import keras\n",
        "int_sequence = np.arange(10)\n",
        "dummy_dataset = keras.utils.timeseries_dataset_from_array(\n",
        "    data=int_sequence[:-5],\n",
        "    targets=int_sequence[5:],\n",
        "    sequence_length=3,\n",
        "    batch_size=2,\n",
        ")\n",
        "\n",
        "for inputs, targets in dummy_dataset:\n",
        "    for i in range(inputs.shape[0]):\n",
        "        print([int(x) for x in inputs[i]], int(targets[i]))"
      ]
    },
    {
      "cell_type": "markdown",
      "metadata": {
        "id": "Vm3y24rq9nWj"
      },
      "source": [
        "**Instantiating datasets for training, validation, and testing**"
      ]
    },
    {
      "cell_type": "code",
      "execution_count": null,
      "metadata": {
        "id": "x_Fc3-I19nWj"
      },
      "outputs": [],
      "source": [
        "sampling_rate = 6\n",
        "sequence_length = 120\n",
        "delay = sampling_rate * (sequence_length + 24 - 1)\n",
        "batch_size = 256\n",
        "\n",
        "train_dataset = keras.utils.timeseries_dataset_from_array(\n",
        "    raw_data[:-delay],\n",
        "    targets=temperature[delay:],\n",
        "    sampling_rate=sampling_rate,\n",
        "    sequence_length=sequence_length,\n",
        "    shuffle=True,\n",
        "    batch_size=batch_size,\n",
        "    start_index=0,\n",
        "    end_index=num_train_samples)\n",
        "\n",
        "val_dataset = keras.utils.timeseries_dataset_from_array(\n",
        "    raw_data[:-delay],\n",
        "    targets=temperature[delay:],\n",
        "    sampling_rate=sampling_rate,\n",
        "    sequence_length=sequence_length,\n",
        "    shuffle=True,\n",
        "    batch_size=batch_size,\n",
        "    start_index=num_train_samples,\n",
        "    end_index=num_train_samples + num_val_samples)\n",
        "\n",
        "test_dataset = keras.utils.timeseries_dataset_from_array(\n",
        "    raw_data[:-delay],\n",
        "    targets=temperature[delay:],\n",
        "    sampling_rate=sampling_rate,\n",
        "    sequence_length=sequence_length,\n",
        "    shuffle=True,\n",
        "    batch_size=batch_size,\n",
        "    start_index=num_train_samples + num_val_samples)"
      ]
    },
    {
      "cell_type": "markdown",
      "metadata": {
        "id": "cghrCafb9nWj"
      },
      "source": [
        "**Inspecting the output of one of our datasets**"
      ]
    },
    {
      "cell_type": "code",
      "execution_count": null,
      "metadata": {
        "colab": {
          "base_uri": "https://localhost:8080/"
        },
        "id": "QjSpUZY39nWj",
        "outputId": "b7a1cf5e-f893-4c0a-c9a7-54168fd28fee"
      },
      "outputs": [
        {
          "output_type": "stream",
          "name": "stdout",
          "text": [
            "samples shape: (256, 120, 14)\n",
            "targets shape: (256,)\n"
          ]
        }
      ],
      "source": [
        "for samples, targets in train_dataset:\n",
        "    print(\"samples shape:\", samples.shape)\n",
        "    print(\"targets shape:\", targets.shape)\n",
        "    break"
      ]
    },
    {
      "cell_type": "code",
      "execution_count": null,
      "metadata": {
        "colab": {
          "base_uri": "https://localhost:8080/"
        },
        "id": "3hKWo82p9nWj",
        "outputId": "c017c6fe-ceab-4b54-c84d-7b5932e4d67c"
      },
      "outputs": [
        {
          "output_type": "stream",
          "name": "stdout",
          "text": [
            "samples shape: (256, 120, 14)\n",
            "targets shape: (256,)\n",
            "tf.Tensor(\n",
            "[ 1.04063401 -0.46926359 -0.54650213 -0.32814713  0.3985407  -0.60459424\n",
            " -0.51704735 -0.5139795  -0.53195147 -0.53148927  0.68764174 -0.84101767\n",
            " -0.89557911  0.09970233], shape=(14,), dtype=float64)\n",
            "tf.Tensor(4.24, shape=(), dtype=float64)\n",
            "tf.Tensor(\n",
            "[ 0.99360346 -0.35411117 -0.42919485 -0.24340272  0.26022627 -0.52171363\n",
            " -0.44229266 -0.44688806 -0.45978421 -0.45767427  0.56418575 -1.18009178\n",
            " -1.1366409  -0.8461299 ], shape=(14,), dtype=float64)\n",
            "tf.Tensor(4.24, shape=(), dtype=float64)\n"
          ]
        }
      ],
      "source": [
        "for samples, targets in train_dataset:\n",
        "    print(\"samples shape:\", samples.shape)\n",
        "    print(\"targets shape:\", targets.shape)\n",
        "\n",
        "    print(samples[0][0])\n",
        "    print(targets[0])\n",
        "    print(samples[0][1])\n",
        "    print(targets[0])\n",
        "\n",
        "    break"
      ]
    },
    {
      "cell_type": "markdown",
      "metadata": {
        "id": "_tGsW7wi9nWk"
      },
      "source": [
        "### Let's try a basic machine-learning model\n",
        "\n",
        "In this model, we will use only the basic Dense layers. This will be our baseline model and we will show how RNNS can improve performance beating the baseline MAE score."
      ]
    },
    {
      "cell_type": "markdown",
      "metadata": {
        "id": "1E_Ckz9l9nWk"
      },
      "source": [
        "**Training and evaluating a densely connected model**\n",
        "\n",
        "Mean Absolute Error is one of the common metrics used for regression tasks like temperature forecasting. Here's how you would compute MAE:\n",
        "\n",
        "a. Use the trained model to make predictions on the testing dataset.\n",
        "\n",
        "b. For each prediction, calculate the absolute difference between the predicted temperature and the actual temperature.\n",
        "\n",
        "c. Take the average of all these absolute differences to get the Mean Absolute Error.\n",
        "\n",
        "MAE represents the average magnitude of errors between predicted and actual temperatures. For example, if the MAE is 2 degrees Celsius, it means that, on average, the model's predictions deviate from the actual temperatures by 2 degrees Celsius. Lower MAE values indicate better performance, as they imply that the model's predictions are closer to the actual values.\n",
        "\n"
      ]
    },
    {
      "cell_type": "code",
      "execution_count": null,
      "metadata": {
        "colab": {
          "base_uri": "https://localhost:8080/"
        },
        "id": "sSfo0K_O9nWk",
        "outputId": "a137be76-be5d-405c-e439-f66468c06c86"
      },
      "outputs": [
        {
          "output_type": "stream",
          "name": "stdout",
          "text": [
            "120\n",
            "(420451, 14)\n"
          ]
        }
      ],
      "source": [
        "print(sequence_length)\n",
        "print(raw_data.shape)"
      ]
    },
    {
      "cell_type": "code",
      "source": [
        "from tensorflow import keras\n",
        "from tensorflow.keras import layers"
      ],
      "metadata": {
        "id": "P2B6ZM2nlECF"
      },
      "execution_count": null,
      "outputs": []
    },
    {
      "cell_type": "code",
      "execution_count": null,
      "metadata": {
        "colab": {
          "base_uri": "https://localhost:8080/"
        },
        "id": "inIovNMs9nWk",
        "outputId": "5e0938fd-cc93-4ce7-c3a8-b63ce072091f"
      },
      "outputs": [
        {
          "name": "stdout",
          "output_type": "stream",
          "text": [
            "Epoch 1/10\n",
            "819/819 [==============================] - 50s 59ms/step - loss: 12.8361 - mae: 2.7731 - val_loss: 10.5039 - val_mae: 2.5659\n",
            "Epoch 2/10\n",
            "819/819 [==============================] - 50s 60ms/step - loss: 9.3200 - mae: 2.3983 - val_loss: 13.4846 - val_mae: 2.9403\n",
            "Epoch 3/10\n",
            "819/819 [==============================] - 39s 48ms/step - loss: 8.4196 - mae: 2.2816 - val_loss: 13.1146 - val_mae: 2.8458\n",
            "Epoch 4/10\n",
            "819/819 [==============================] - 38s 46ms/step - loss: 7.8559 - mae: 2.2041 - val_loss: 10.0627 - val_mae: 2.5101\n",
            "Epoch 5/10\n",
            "819/819 [==============================] - 39s 48ms/step - loss: 7.4601 - mae: 2.1505 - val_loss: 10.2020 - val_mae: 2.5305\n",
            "Epoch 6/10\n",
            "819/819 [==============================] - 48s 58ms/step - loss: 7.1748 - mae: 2.1080 - val_loss: 10.1978 - val_mae: 2.5296\n",
            "Epoch 7/10\n",
            "819/819 [==============================] - 47s 58ms/step - loss: 6.9326 - mae: 2.0730 - val_loss: 11.6216 - val_mae: 2.7063\n",
            "Epoch 8/10\n",
            "819/819 [==============================] - 47s 57ms/step - loss: 6.7655 - mae: 2.0498 - val_loss: 10.6426 - val_mae: 2.5850\n",
            "Epoch 9/10\n",
            "819/819 [==============================] - 49s 59ms/step - loss: 6.5824 - mae: 2.0241 - val_loss: 10.3515 - val_mae: 2.5424\n",
            "Epoch 10/10\n",
            "819/819 [==============================] - 38s 47ms/step - loss: 6.4650 - mae: 2.0052 - val_loss: 11.2667 - val_mae: 2.6477\n",
            "405/405 [==============================] - 15s 35ms/step - loss: 11.7219 - mae: 2.6880\n",
            "Test MAE: 2.69\n"
          ]
        }
      ],
      "source": [
        "from tensorflow import keras\n",
        "from tensorflow.keras import layers\n",
        "\n",
        "inputs = keras.Input(shape=(sequence_length, raw_data.shape[-1]))\n",
        "x = layers.Flatten()(inputs)\n",
        "x = layers.Dense(16, activation=\"relu\")(x)\n",
        "outputs = layers.Dense(1)(x)\n",
        "model = keras.Model(inputs, outputs)\n",
        "\n",
        "callbacks = [\n",
        "    keras.callbacks.ModelCheckpoint(\"jena_dense.keras\",\n",
        "                                    save_best_only=True)\n",
        "]\n",
        "model.compile(optimizer=\"rmsprop\", loss=\"mse\", metrics=[\"mae\"])\n",
        "history = model.fit(train_dataset,\n",
        "                    epochs=10,\n",
        "                    validation_data=val_dataset,\n",
        "                    callbacks=callbacks)\n",
        "\n",
        "model = keras.models.load_model(\"jena_dense.keras\")\n",
        "print(f\"Test MAE: {model.evaluate(test_dataset)[1]:.2f}\")"
      ]
    },
    {
      "cell_type": "code",
      "execution_count": null,
      "metadata": {
        "colab": {
          "base_uri": "https://localhost:8080/",
          "height": 582
        },
        "id": "hGw_LF4Zgo1s",
        "outputId": "83849238-a503-46ac-ac32-3783e2ed3bbc"
      },
      "outputs": [
        {
          "output_type": "error",
          "ename": "OSError",
          "evalue": "No file or directory found at jena_dense.keras",
          "traceback": [
            "\u001b[0;31m---------------------------------------------------------------------------\u001b[0m",
            "\u001b[0;31mOSError\u001b[0m                                   Traceback (most recent call last)",
            "\u001b[0;32m<ipython-input-17-d0cf52d7bb7f>\u001b[0m in \u001b[0;36m<cell line: 20>\u001b[0;34m()\u001b[0m\n\u001b[1;32m     18\u001b[0m       \u001b[0;31m#              callbacks=callbacks)\u001b[0m\u001b[0;34m\u001b[0m\u001b[0;34m\u001b[0m\u001b[0m\n\u001b[1;32m     19\u001b[0m \u001b[0;34m\u001b[0m\u001b[0m\n\u001b[0;32m---> 20\u001b[0;31m \u001b[0mmodel\u001b[0m \u001b[0;34m=\u001b[0m \u001b[0mkeras\u001b[0m\u001b[0;34m.\u001b[0m\u001b[0mmodels\u001b[0m\u001b[0;34m.\u001b[0m\u001b[0mload_model\u001b[0m\u001b[0;34m(\u001b[0m\u001b[0;34m\"jena_dense.keras\"\u001b[0m\u001b[0;34m)\u001b[0m\u001b[0;34m\u001b[0m\u001b[0;34m\u001b[0m\u001b[0m\n\u001b[0m\u001b[1;32m     21\u001b[0m \u001b[0mprint\u001b[0m\u001b[0;34m(\u001b[0m\u001b[0;34mf\"Test MAE: {model.evaluate(test_dataset)[1]:.2f}\"\u001b[0m\u001b[0;34m)\u001b[0m\u001b[0;34m\u001b[0m\u001b[0;34m\u001b[0m\u001b[0m\n",
            "\u001b[0;32m/usr/local/lib/python3.10/dist-packages/keras/src/saving/saving_api.py\u001b[0m in \u001b[0;36mload_model\u001b[0;34m(filepath, custom_objects, compile, safe_mode, **kwargs)\u001b[0m\n\u001b[1;32m    260\u001b[0m \u001b[0;34m\u001b[0m\u001b[0m\n\u001b[1;32m    261\u001b[0m     \u001b[0;31m# Legacy case.\u001b[0m\u001b[0;34m\u001b[0m\u001b[0;34m\u001b[0m\u001b[0m\n\u001b[0;32m--> 262\u001b[0;31m     return legacy_sm_saving_lib.load_model(\n\u001b[0m\u001b[1;32m    263\u001b[0m         \u001b[0mfilepath\u001b[0m\u001b[0;34m,\u001b[0m \u001b[0mcustom_objects\u001b[0m\u001b[0;34m=\u001b[0m\u001b[0mcustom_objects\u001b[0m\u001b[0;34m,\u001b[0m \u001b[0mcompile\u001b[0m\u001b[0;34m=\u001b[0m\u001b[0mcompile\u001b[0m\u001b[0;34m,\u001b[0m \u001b[0;34m**\u001b[0m\u001b[0mkwargs\u001b[0m\u001b[0;34m\u001b[0m\u001b[0;34m\u001b[0m\u001b[0m\n\u001b[1;32m    264\u001b[0m     )\n",
            "\u001b[0;32m/usr/local/lib/python3.10/dist-packages/keras/src/utils/traceback_utils.py\u001b[0m in \u001b[0;36merror_handler\u001b[0;34m(*args, **kwargs)\u001b[0m\n\u001b[1;32m     68\u001b[0m             \u001b[0;31m# To get the full stack trace, call:\u001b[0m\u001b[0;34m\u001b[0m\u001b[0;34m\u001b[0m\u001b[0m\n\u001b[1;32m     69\u001b[0m             \u001b[0;31m# `tf.debugging.disable_traceback_filtering()`\u001b[0m\u001b[0;34m\u001b[0m\u001b[0;34m\u001b[0m\u001b[0m\n\u001b[0;32m---> 70\u001b[0;31m             \u001b[0;32mraise\u001b[0m \u001b[0me\u001b[0m\u001b[0;34m.\u001b[0m\u001b[0mwith_traceback\u001b[0m\u001b[0;34m(\u001b[0m\u001b[0mfiltered_tb\u001b[0m\u001b[0;34m)\u001b[0m \u001b[0;32mfrom\u001b[0m \u001b[0;32mNone\u001b[0m\u001b[0;34m\u001b[0m\u001b[0;34m\u001b[0m\u001b[0m\n\u001b[0m\u001b[1;32m     71\u001b[0m         \u001b[0;32mfinally\u001b[0m\u001b[0;34m:\u001b[0m\u001b[0;34m\u001b[0m\u001b[0;34m\u001b[0m\u001b[0m\n\u001b[1;32m     72\u001b[0m             \u001b[0;32mdel\u001b[0m \u001b[0mfiltered_tb\u001b[0m\u001b[0;34m\u001b[0m\u001b[0;34m\u001b[0m\u001b[0m\n",
            "\u001b[0;32m/usr/local/lib/python3.10/dist-packages/keras/src/saving/legacy/save.py\u001b[0m in \u001b[0;36mload_model\u001b[0;34m(filepath, custom_objects, compile, options)\u001b[0m\n\u001b[1;32m    232\u001b[0m                     \u001b[0;32mif\u001b[0m \u001b[0misinstance\u001b[0m\u001b[0;34m(\u001b[0m\u001b[0mfilepath_str\u001b[0m\u001b[0;34m,\u001b[0m \u001b[0mstr\u001b[0m\u001b[0;34m)\u001b[0m\u001b[0;34m:\u001b[0m\u001b[0;34m\u001b[0m\u001b[0;34m\u001b[0m\u001b[0m\n\u001b[1;32m    233\u001b[0m                         \u001b[0;32mif\u001b[0m \u001b[0;32mnot\u001b[0m \u001b[0mtf\u001b[0m\u001b[0;34m.\u001b[0m\u001b[0mio\u001b[0m\u001b[0;34m.\u001b[0m\u001b[0mgfile\u001b[0m\u001b[0;34m.\u001b[0m\u001b[0mexists\u001b[0m\u001b[0;34m(\u001b[0m\u001b[0mfilepath_str\u001b[0m\u001b[0;34m)\u001b[0m\u001b[0;34m:\u001b[0m\u001b[0;34m\u001b[0m\u001b[0;34m\u001b[0m\u001b[0m\n\u001b[0;32m--> 234\u001b[0;31m                             raise IOError(\n\u001b[0m\u001b[1;32m    235\u001b[0m                                 \u001b[0;34mf\"No file or directory found at {filepath_str}\"\u001b[0m\u001b[0;34m\u001b[0m\u001b[0;34m\u001b[0m\u001b[0m\n\u001b[1;32m    236\u001b[0m                             )\n",
            "\u001b[0;31mOSError\u001b[0m: No file or directory found at jena_dense.keras"
          ]
        }
      ],
      "source": [
        "from tensorflow import keras\n",
        "from tensorflow.keras import layers\n",
        "\n",
        "inputs = keras.Input(shape=(sequence_length, raw_data.shape[-1]))\n",
        "x = layers.Flatten()(inputs)\n",
        "x = layers.Dense(20, activation=\"relu\")(x)\n",
        "outputs = layers.Dense(1)(x)\n",
        "model = keras.Model(inputs, outputs)\n",
        "\n",
        "callbacks = [\n",
        "    keras.callbacks.ModelCheckpoint(\"jena_dense.keras\",\n",
        "                                    save_best_only=True)\n",
        "]\n",
        "model.compile(optimizer=\"rmsprop\", loss=\"mse\", metrics=[\"mae\"])\n",
        "history = model.fit(train_dataset,\n",
        "                    epochs=20,\n",
        "                    validation_data=val_dataset,\n",
        "                    callbacks=callbacks)\n",
        "\n",
        "model = keras.models.load_model(\"jena_dense.keras\")\n",
        "print(f\"Test MAE: {model.evaluate(test_dataset)[1]:.2f}\")"
      ]
    },
    {
      "cell_type": "markdown",
      "metadata": {
        "id": "dM3neTbg9nWk"
      },
      "source": [
        "**Plotting results**"
      ]
    },
    {
      "cell_type": "code",
      "execution_count": null,
      "metadata": {
        "colab": {
          "base_uri": "https://localhost:8080/",
          "height": 452
        },
        "id": "BLUhqgkw9nWk",
        "outputId": "5d78f739-93af-45ec-d17c-7dff84ef3cd6"
      },
      "outputs": [
        {
          "data": {
            "image/png": "[encoded data removed]",
            "text/plain": [
              "<Figure size 640x480 with 1 Axes>"
            ]
          },
          "metadata": {},
          "output_type": "display_data"
        }
      ],
      "source": [
        "import matplotlib.pyplot as plt\n",
        "loss = history.history[\"mae\"]\n",
        "val_loss = history.history[\"val_mae\"]\n",
        "epochs = range(1, len(loss) + 1)\n",
        "plt.figure()\n",
        "plt.plot(epochs, loss, \"bo\", label=\"Training MAE\")\n",
        "plt.plot(epochs, val_loss, \"b\", label=\"Validation MAE\")\n",
        "plt.title(\"Training and validation MAE\")\n",
        "plt.legend()\n",
        "plt.show()"
      ]
    },
    {
      "cell_type": "markdown",
      "metadata": {
        "id": "KedDfT769nWk"
      },
      "source": [
        "### Let's try a 1D convolutional model\n",
        "\n",
        "Using a 1D convolutional neural network (CNN) for temperature forecasting involves applying convolutional layers to input sequences of temperature data.\n",
        "\n",
        "Model Architecture:\n",
        "\n",
        "1. Start with an input layer that takes sequences of temperature data as input.\n",
        "2. Add one or more 1D convolutional layers to extract features from the input sequences. Each convolutional layer applies a set of filters across the input sequence, capturing patterns at different temporal scales.\n",
        "3. Optionally, you can add pooling layers (e.g., MaxPooling1D) to downsample the output of the convolutional layers.\n",
        "4. Flatten or use global pooling to convert the output of the convolutional layers into a 1D vector.\n",
        "5. Add one or more fully connected layers (Dense layers) to perform the final regression prediction.\n",
        "6. Optionally, include dropout layers for regularization to prevent overfitting.\n",
        "7. The output layer should have a single neuron since temperature forecasting is a regression task, and it should use an appropriate activation function (e.g., linear activation for regression)."
      ]
    },
    {
      "cell_type": "code",
      "execution_count": null,
      "metadata": {
        "colab": {
          "background_save": true,
          "base_uri": "https://localhost:8080/"
        },
        "id": "mClsBd6g9nWk",
        "outputId": "73763eca-b0c4-45c8-e2c5-c76e0ee1f5d7"
      },
      "outputs": [
        {
          "name": "stdout",
          "output_type": "stream",
          "text": [
            "Epoch 1/10\n",
            "819/819 [==============================] - 42s 48ms/step - loss: 21.6798 - mae: 3.6332 - val_loss: 15.5339 - val_mae: 3.1277\n",
            "Epoch 2/10\n",
            "819/819 [==============================] - 48s 58ms/step - loss: 15.2672 - mae: 3.0972 - val_loss: 14.7193 - val_mae: 3.0413\n",
            "Epoch 3/10\n",
            "819/819 [==============================] - 39s 48ms/step - loss: 13.8631 - mae: 2.9488 - val_loss: 16.9868 - val_mae: 3.2931\n",
            "Epoch 4/10\n",
            "819/819 [==============================] - 38s 46ms/step - loss: 13.0255 - mae: 2.8550 - val_loss: 14.2297 - val_mae: 2.9489\n",
            "Epoch 5/10\n",
            "819/819 [==============================] - 49s 59ms/step - loss: 12.3470 - mae: 2.7795 - val_loss: 14.1126 - val_mae: 2.9322\n",
            "Epoch 6/10\n",
            "819/819 [==============================] - 48s 59ms/step - loss: 11.7960 - mae: 2.7163 - val_loss: 15.7823 - val_mae: 3.1509\n",
            "Epoch 7/10\n",
            "819/819 [==============================] - 39s 47ms/step - loss: 11.3742 - mae: 2.6699 - val_loss: 15.4119 - val_mae: 3.0512\n",
            "Epoch 8/10\n",
            "819/819 [==============================] - 48s 58ms/step - loss: 10.9502 - mae: 2.6234 - val_loss: 13.4924 - val_mae: 2.8611\n",
            "Epoch 9/10\n",
            "819/819 [==============================] - 38s 46ms/step - loss: 10.6461 - mae: 2.5864 - val_loss: 16.8709 - val_mae: 3.2054\n",
            "Epoch 10/10\n",
            "819/819 [==============================] - 52s 63ms/step - loss: 10.3523 - mae: 2.5513 - val_loss: 14.6105 - val_mae: 2.9953\n",
            "405/405 [==============================] - 13s 32ms/step - loss: 15.0729 - mae: 3.0594\n",
            "Test MAE: 3.06\n"
          ]
        }
      ],
      "source": [
        "inputs = keras.Input(shape=(sequence_length, raw_data.shape[-1]))\n",
        "x = layers.Conv1D(8, 24, activation=\"relu\")(inputs)\n",
        "x = layers.MaxPooling1D(2)(x)\n",
        "x = layers.Conv1D(8, 12, activation=\"relu\")(x)\n",
        "x = layers.MaxPooling1D(2)(x)\n",
        "x = layers.Conv1D(8, 6, activation=\"relu\")(x)\n",
        "x = layers.GlobalAveragePooling1D()(x)\n",
        "outputs = layers.Dense(1)(x)\n",
        "model = keras.Model(inputs, outputs)\n",
        "\n",
        "callbacks = [\n",
        "    keras.callbacks.ModelCheckpoint(\"jena_conv.keras\",\n",
        "                                    save_best_only=True)\n",
        "]\n",
        "model.compile(optimizer=\"rmsprop\", loss=\"mse\", metrics=[\"mae\"])\n",
        "history_Conv = model.fit(train_dataset,\n",
        "                    epochs=10,\n",
        "                    validation_data=val_dataset,\n",
        "                    callbacks=callbacks)\n",
        "\n",
        "model = keras.models.load_model(\"jena_conv.keras\")\n",
        "print(f\"Test MAE: {model.evaluate(test_dataset)[1]:.2f}\")"
      ]
    },
    {
      "cell_type": "code",
      "source": [
        "loss = history_Conv.history[\"mae\"]\n",
        "val_loss = history_Conv.history[\"val_mae\"]\n",
        "epochs = range(1, len(loss) + 1)\n",
        "plt.figure()\n",
        "plt.plot(epochs, loss, \"bo\", label=\"Training MAE\")\n",
        "plt.plot(epochs, val_loss, \"b\", label=\"Validation MAE\")\n",
        "plt.title(\"Training and validation MAE\")\n",
        "plt.legend()\n",
        "plt.show()"
      ],
      "metadata": {
        "colab": {
          "base_uri": "https://localhost:8080/",
          "height": 211
        },
        "id": "swTG_FiDLSsu",
        "outputId": "6ab595a6-5a07-43a7-d089-047ae723926c"
      },
      "execution_count": null,
      "outputs": [
        {
          "output_type": "error",
          "ename": "NameError",
          "evalue": "name 'history_Conv' is not defined",
          "traceback": [
            "\u001b[0;31m---------------------------------------------------------------------------\u001b[0m",
            "\u001b[0;31mNameError\u001b[0m                                 Traceback (most recent call last)",
            "\u001b[0;32m<ipython-input-29-8258f44436d8>\u001b[0m in \u001b[0;36m<cell line: 1>\u001b[0;34m()\u001b[0m\n\u001b[0;32m----> 1\u001b[0;31m \u001b[0mloss\u001b[0m \u001b[0;34m=\u001b[0m \u001b[0mhistory_Conv\u001b[0m\u001b[0;34m.\u001b[0m\u001b[0mhistory\u001b[0m\u001b[0;34m[\u001b[0m\u001b[0;34m\"mae\"\u001b[0m\u001b[0;34m]\u001b[0m\u001b[0;34m\u001b[0m\u001b[0;34m\u001b[0m\u001b[0m\n\u001b[0m\u001b[1;32m      2\u001b[0m \u001b[0mval_loss\u001b[0m \u001b[0;34m=\u001b[0m \u001b[0mhistory_Conv\u001b[0m\u001b[0;34m.\u001b[0m\u001b[0mhistory\u001b[0m\u001b[0;34m[\u001b[0m\u001b[0;34m\"val_mae\"\u001b[0m\u001b[0;34m]\u001b[0m\u001b[0;34m\u001b[0m\u001b[0;34m\u001b[0m\u001b[0m\n\u001b[1;32m      3\u001b[0m \u001b[0mepochs\u001b[0m \u001b[0;34m=\u001b[0m \u001b[0mrange\u001b[0m\u001b[0;34m(\u001b[0m\u001b[0;36m1\u001b[0m\u001b[0;34m,\u001b[0m \u001b[0mlen\u001b[0m\u001b[0;34m(\u001b[0m\u001b[0mloss\u001b[0m\u001b[0;34m)\u001b[0m \u001b[0;34m+\u001b[0m \u001b[0;36m1\u001b[0m\u001b[0;34m)\u001b[0m\u001b[0;34m\u001b[0m\u001b[0;34m\u001b[0m\u001b[0m\n\u001b[1;32m      4\u001b[0m \u001b[0mplt\u001b[0m\u001b[0;34m.\u001b[0m\u001b[0mfigure\u001b[0m\u001b[0;34m(\u001b[0m\u001b[0;34m)\u001b[0m\u001b[0;34m\u001b[0m\u001b[0;34m\u001b[0m\u001b[0m\n\u001b[1;32m      5\u001b[0m \u001b[0mplt\u001b[0m\u001b[0;34m.\u001b[0m\u001b[0mplot\u001b[0m\u001b[0;34m(\u001b[0m\u001b[0mepochs\u001b[0m\u001b[0;34m,\u001b[0m \u001b[0mloss\u001b[0m\u001b[0;34m,\u001b[0m \u001b[0;34m\"bo\"\u001b[0m\u001b[0;34m,\u001b[0m \u001b[0mlabel\u001b[0m\u001b[0;34m=\u001b[0m\u001b[0;34m\"Training MAE\"\u001b[0m\u001b[0;34m)\u001b[0m\u001b[0;34m\u001b[0m\u001b[0;34m\u001b[0m\u001b[0m\n",
            "\u001b[0;31mNameError\u001b[0m: name 'history_Conv' is not defined"
          ]
        }
      ]
    },
    {
      "cell_type": "code",
      "execution_count": null,
      "metadata": {
        "colab": {
          "base_uri": "https://localhost:8080/"
        },
        "id": "CjsAVajbooGR",
        "outputId": "9622e2a6-6b67-435d-b501-0c4ec5bf776c"
      },
      "outputs": [
        {
          "output_type": "stream",
          "name": "stdout",
          "text": [
            "Epoch 1/10\n",
            "819/819 [==============================] - 50s 57ms/step - loss: 30.1204 - mae: 4.0630 - val_loss: 16.4830 - val_mae: 3.2177\n",
            "Epoch 2/10\n",
            "819/819 [==============================] - 40s 49ms/step - loss: 14.8512 - mae: 3.0542 - val_loss: 14.6681 - val_mae: 3.0151\n",
            "Epoch 3/10\n",
            "819/819 [==============================] - 40s 49ms/step - loss: 13.4337 - mae: 2.8953 - val_loss: 18.2670 - val_mae: 3.3823\n",
            "Epoch 4/10\n",
            "819/819 [==============================] - 49s 60ms/step - loss: 12.5530 - mae: 2.7933 - val_loss: 14.5102 - val_mae: 2.9832\n",
            "Epoch 5/10\n",
            "819/819 [==============================] - 50s 61ms/step - loss: 11.9790 - mae: 2.7254 - val_loss: 13.8581 - val_mae: 2.9289\n",
            "Epoch 6/10\n",
            "819/819 [==============================] - 41s 50ms/step - loss: 11.5390 - mae: 2.6762 - val_loss: 14.9939 - val_mae: 3.0246\n",
            "Epoch 7/10\n",
            "819/819 [==============================] - 42s 51ms/step - loss: 11.1738 - mae: 2.6350 - val_loss: 14.5085 - val_mae: 2.9806\n",
            "Epoch 8/10\n",
            "819/819 [==============================] - 47s 57ms/step - loss: 10.8168 - mae: 2.5927 - val_loss: 18.2576 - val_mae: 3.3686\n",
            "Epoch 9/10\n",
            "819/819 [==============================] - 50s 60ms/step - loss: 10.5220 - mae: 2.5581 - val_loss: 15.7842 - val_mae: 3.1306\n",
            "Epoch 10/10\n",
            "819/819 [==============================] - 42s 51ms/step - loss: 10.2616 - mae: 2.5243 - val_loss: 15.5028 - val_mae: 3.0719\n",
            "405/405 [==============================] - 14s 34ms/step - loss: 14.6379 - mae: 3.0201\n",
            "Test MAE: 3.02\n"
          ]
        }
      ],
      "source": [
        "inputs = keras.Input(shape=(sequence_length, raw_data.shape[-1]))\n",
        "x = layers.Conv1D(8, 24, activation=\"relu\")(inputs)\n",
        "x = layers.MaxPooling1D(3)(x)\n",
        "x = layers.Conv1D(8, 12, activation=\"relu\")(x)\n",
        "x = layers.MaxPooling1D(2)(x)\n",
        "x = layers.Conv1D(8, 6, activation=\"relu\")(x)\n",
        "x = layers.GlobalAveragePooling1D()(x)\n",
        "outputs = layers.Dense(10)(x)\n",
        "model = keras.Model(inputs, outputs)\n",
        "\n",
        "callbacks = [\n",
        "    keras.callbacks.ModelCheckpoint(\"jena_conv.keras\",\n",
        "                                    save_best_only=True)\n",
        "]\n",
        "model.compile(optimizer=\"rmsprop\", loss=\"mse\", metrics=[\"mae\"])\n",
        "history_cnn2 = model.fit(train_dataset,\n",
        "                    epochs=10,\n",
        "                    validation_data=val_dataset,\n",
        "                    callbacks=callbacks)\n",
        "\n",
        "model = keras.models.load_model(\"jena_conv.keras\")\n",
        "print(f\"Test MAE: {model.evaluate(test_dataset)[1]:.2f}\")"
      ]
    },
    {
      "cell_type": "code",
      "source": [
        "loss = history_cnn2.history[\"mae\"]\n",
        "val_loss = history_cnn2.history[\"val_mae\"]\n",
        "epochs = range(1, len(loss) + 1)\n",
        "plt.figure()\n",
        "plt.plot(epochs, loss, \"bo\", label=\"Training MAE\")\n",
        "plt.plot(epochs, val_loss, \"b\", label=\"Validation MAE\")\n",
        "plt.title(\"Training and validation MAE of Model_CNN2\")\n",
        "plt.legend()\n",
        "plt.show()"
      ],
      "metadata": {
        "colab": {
          "base_uri": "https://localhost:8080/",
          "height": 452
        },
        "id": "8et7swUAMh2g",
        "outputId": "cf95887b-820b-4d89-b305-6dc7063b343a"
      },
      "execution_count": null,
      "outputs": [
        {
          "output_type": "display_data",
          "data": {
            "text/plain": [
              "<Figure size 640x480 with 1 Axes>"
            ],
            "image/png": "[encoded data removed]"
          },
          "metadata": {}
        }
      ]
    },
    {
      "cell_type": "markdown",
      "metadata": {
        "id": "11hKVP0-9nWk"
      },
      "source": [
        "### A first recurrent baseline"
      ]
    },
    {
      "cell_type": "markdown",
      "metadata": {
        "id": "RpYXRkFq9nWs"
      },
      "source": [
        "**A simple LSTM-based model**\n",
        "\n",
        "Using Long Short-Term Memory (LSTM) networks for temperature forecasting is a common approach due to their ability to capture long-term dependencies in sequential data.\n",
        "\n",
        "ong Short-Term Memory (LSTM) networks are a type of recurrent neural network (RNN) designed to capture long-term dependencies in sequential data. The LSTM layer consists of memory cells and various gates that control the flow of information through the cell over time."
      ]
    },
    {
      "cell_type": "code",
      "execution_count": null,
      "metadata": {
        "id": "3cV-OAAS9nWs",
        "colab": {
          "base_uri": "https://localhost:8080/"
        },
        "outputId": "dddc8db3-878e-454f-e704-e68c1044b15d"
      },
      "outputs": [
        {
          "output_type": "stream",
          "name": "stdout",
          "text": [
            "Epoch 1/10\n",
            "819/819 [==============================] - 45s 52ms/step - loss: 40.8880 - mae: 4.6563 - val_loss: 14.8472 - val_mae: 2.7988\n",
            "Epoch 2/10\n",
            "819/819 [==============================] - 52s 63ms/step - loss: 10.8474 - mae: 2.5552 - val_loss: 9.6142 - val_mae: 2.4110\n",
            "Epoch 3/10\n",
            "819/819 [==============================] - 43s 52ms/step - loss: 9.4726 - mae: 2.4035 - val_loss: 9.3955 - val_mae: 2.3797\n",
            "Epoch 4/10\n",
            "819/819 [==============================] - 51s 62ms/step - loss: 8.9685 - mae: 2.3429 - val_loss: 9.5166 - val_mae: 2.3818\n",
            "Epoch 5/10\n",
            "819/819 [==============================] - 50s 61ms/step - loss: 8.6708 - mae: 2.3051 - val_loss: 9.6470 - val_mae: 2.3877\n",
            "Epoch 6/10\n",
            "819/819 [==============================] - 42s 52ms/step - loss: 8.4490 - mae: 2.2764 - val_loss: 9.7563 - val_mae: 2.4017\n",
            "Epoch 7/10\n",
            "819/819 [==============================] - 43s 53ms/step - loss: 8.2683 - mae: 2.2524 - val_loss: 10.2608 - val_mae: 2.4442\n",
            "Epoch 8/10\n",
            "819/819 [==============================] - 53s 65ms/step - loss: 8.0725 - mae: 2.2264 - val_loss: 10.2671 - val_mae: 2.4573\n",
            "Epoch 9/10\n",
            "819/819 [==============================] - 46s 56ms/step - loss: 7.8857 - mae: 2.2012 - val_loss: 10.1576 - val_mae: 2.4571\n",
            "Epoch 10/10\n",
            "819/819 [==============================] - 51s 62ms/step - loss: 7.8271 - mae: 2.1884 - val_loss: 11.1228 - val_mae: 2.5490\n",
            "405/405 [==============================] - 15s 34ms/step - loss: 10.3212 - mae: 2.4979\n",
            "Test MAE: 2.50\n"
          ]
        }
      ],
      "source": [
        "inputs = keras.Input(shape=(sequence_length, raw_data.shape[-1]))\n",
        "x = layers.LSTM(16)(inputs)\n",
        "outputs = layers.Dense(1)(x)\n",
        "model_lstm = keras.Model(inputs, outputs)\n",
        "\n",
        "callbacks = [\n",
        "    keras.callbacks.ModelCheckpoint(\"jena_lstm.keras\",\n",
        "                                    save_best_only=True)\n",
        "]\n",
        "model_lstm.compile(optimizer=\"rmsprop\", loss=\"mse\", metrics=[\"mae\"])\n",
        "history_lstm = model_lstm.fit(train_dataset,\n",
        "                    epochs=10,\n",
        "                    validation_data=val_dataset,\n",
        "                    callbacks=callbacks)\n",
        "\n",
        "model_lstm = keras.models.load_model(\"jena_lstm.keras\")\n",
        "print(f\"Test MAE: {model_lstm.evaluate(test_dataset)[1]:.2f}\")"
      ]
    },
    {
      "cell_type": "code",
      "source": [
        "loss = history_lstm.history[\"mae\"]\n",
        "val_loss = history_lstm.history[\"val_mae\"]\n",
        "epochs = range(1, len(loss) + 1)\n",
        "plt.figure()\n",
        "plt.plot(epochs, loss, \"bo\", label=\"Training MAE\")\n",
        "plt.plot(epochs, val_loss, \"b\", label=\"Validation MAE\")\n",
        "plt.title(\"Training and validation MAE of Model_LSTM\")\n",
        "plt.legend()\n",
        "plt.show()"
      ],
      "metadata": {
        "colab": {
          "base_uri": "https://localhost:8080/",
          "height": 452
        },
        "id": "tOFHopJYNAZB",
        "outputId": "5467ed00-7d2f-46b0-ec4b-972a42994005"
      },
      "execution_count": null,
      "outputs": [
        {
          "output_type": "display_data",
          "data": {
            "text/plain": [
              "<Figure size 640x480 with 1 Axes>"
            ],
            "image/png": "[encoded data removed]"
          },
          "metadata": {}
        }
      ]
    },
    {
      "cell_type": "markdown",
      "metadata": {
        "id": "jEgAZ6mW9nWt"
      },
      "source": [
        "## Advanced use of recurrent neural networks"
      ]
    },
    {
      "cell_type": "markdown",
      "metadata": {
        "id": "cWhNua429nWt"
      },
      "source": [
        "### Using recurrent dropout to fight overfitting"
      ]
    },
    {
      "cell_type": "markdown",
      "metadata": {
        "id": "uzT7-w-B9nWt"
      },
      "source": [
        "**Training and evaluating a dropout-regularized LSTM**"
      ]
    },
    {
      "cell_type": "code",
      "execution_count": null,
      "metadata": {
        "id": "FJ2WgkDW9nWt",
        "colab": {
          "base_uri": "https://localhost:8080/",
          "height": 211
        },
        "outputId": "5e29c58a-a9a0-4c7f-d338-1e7fbb13847e"
      },
      "outputs": [
        {
          "output_type": "error",
          "ename": "NameError",
          "evalue": "name 'keras' is not defined",
          "traceback": [
            "\u001b[0;31m---------------------------------------------------------------------------\u001b[0m",
            "\u001b[0;31mNameError\u001b[0m                                 Traceback (most recent call last)",
            "\u001b[0;32m<ipython-input-1-025281b10086>\u001b[0m in \u001b[0;36m<cell line: 1>\u001b[0;34m()\u001b[0m\n\u001b[0;32m----> 1\u001b[0;31m \u001b[0minputs\u001b[0m \u001b[0;34m=\u001b[0m \u001b[0mkeras\u001b[0m\u001b[0;34m.\u001b[0m\u001b[0mInput\u001b[0m\u001b[0;34m(\u001b[0m\u001b[0mshape\u001b[0m\u001b[0;34m=\u001b[0m\u001b[0;34m(\u001b[0m\u001b[0msequence_length\u001b[0m\u001b[0;34m,\u001b[0m \u001b[0mraw_data\u001b[0m\u001b[0;34m.\u001b[0m\u001b[0mshape\u001b[0m\u001b[0;34m[\u001b[0m\u001b[0;34m-\u001b[0m\u001b[0;36m1\u001b[0m\u001b[0;34m]\u001b[0m\u001b[0;34m)\u001b[0m\u001b[0;34m)\u001b[0m\u001b[0;34m\u001b[0m\u001b[0;34m\u001b[0m\u001b[0m\n\u001b[0m\u001b[1;32m      2\u001b[0m \u001b[0mx\u001b[0m \u001b[0;34m=\u001b[0m \u001b[0mlayers\u001b[0m\u001b[0;34m.\u001b[0m\u001b[0mLSTM\u001b[0m\u001b[0;34m(\u001b[0m\u001b[0;36m32\u001b[0m\u001b[0;34m,\u001b[0m \u001b[0mrecurrent_dropout\u001b[0m\u001b[0;34m=\u001b[0m\u001b[0;36m0.25\u001b[0m\u001b[0;34m)\u001b[0m\u001b[0;34m(\u001b[0m\u001b[0minputs\u001b[0m\u001b[0;34m)\u001b[0m\u001b[0;34m\u001b[0m\u001b[0;34m\u001b[0m\u001b[0m\n\u001b[1;32m      3\u001b[0m \u001b[0mx\u001b[0m \u001b[0;34m=\u001b[0m \u001b[0mlayers\u001b[0m\u001b[0;34m.\u001b[0m\u001b[0mDropout\u001b[0m\u001b[0;34m(\u001b[0m\u001b[0;36m0.5\u001b[0m\u001b[0;34m)\u001b[0m\u001b[0;34m(\u001b[0m\u001b[0mx\u001b[0m\u001b[0;34m)\u001b[0m\u001b[0;34m\u001b[0m\u001b[0;34m\u001b[0m\u001b[0m\n\u001b[1;32m      4\u001b[0m \u001b[0moutputs\u001b[0m \u001b[0;34m=\u001b[0m \u001b[0mlayers\u001b[0m\u001b[0;34m.\u001b[0m\u001b[0mDense\u001b[0m\u001b[0;34m(\u001b[0m\u001b[0;36m1\u001b[0m\u001b[0;34m)\u001b[0m\u001b[0;34m(\u001b[0m\u001b[0mx\u001b[0m\u001b[0;34m)\u001b[0m\u001b[0;34m\u001b[0m\u001b[0;34m\u001b[0m\u001b[0m\n\u001b[1;32m      5\u001b[0m \u001b[0mmodel_lstm2\u001b[0m \u001b[0;34m=\u001b[0m \u001b[0mkeras\u001b[0m\u001b[0;34m.\u001b[0m\u001b[0mModel\u001b[0m\u001b[0;34m(\u001b[0m\u001b[0minputs\u001b[0m\u001b[0;34m,\u001b[0m \u001b[0moutputs\u001b[0m\u001b[0;34m)\u001b[0m\u001b[0;34m\u001b[0m\u001b[0;34m\u001b[0m\u001b[0m\n",
            "\u001b[0;31mNameError\u001b[0m: name 'keras' is not defined"
          ]
        }
      ],
      "source": [
        "inputs = keras.Input(shape=(sequence_length, raw_data.shape[-1]))\n",
        "x = layers.LSTM(32, recurrent_dropout=0.25)(inputs)\n",
        "x = layers.Dropout(0.5)(x)\n",
        "outputs = layers.Dense(1)(x)\n",
        "model_lstm2 = keras.Model(inputs, outputs)\n",
        "\n",
        "callbacks = [\n",
        "    keras.callbacks.ModelCheckpoint(\"jena_lstm_dropout.keras\",\n",
        "                                    save_best_only=True)\n",
        "]\n",
        "model_lstm2.compile(optimizer=\"rmsprop\", loss=\"mse\", metrics=[\"mae\"])\n",
        "history_lstm2 = model_lstm2.fit(train_dataset,\n",
        "                    epochs=5,\n",
        "                    validation_data=val_dataset,\n",
        "                    callbacks=callbacks)\n",
        "\n",
        "model_lstm2 = keras.models.load_model(\"jena_lstm_dropout.keras\")\n",
        "print(f\"Test MAE: {model_lstm2.evaluate(test_dataset)[1]:.2f}\")"
      ]
    },
    {
      "cell_type": "code",
      "source": [
        "loss = history_lstm2.history[\"mae\"]\n",
        "val_loss = history_lstm2.history[\"val_mae\"]\n",
        "epochs = range(1, len(loss) + 1)\n",
        "plt.figure()\n",
        "plt.plot(epochs, loss, \"bo\", label=\"Training MAE\")\n",
        "plt.plot(epochs, val_loss, \"b\", label=\"Validation MAE\")\n",
        "plt.title(\"Training and validation MAE of Model_LSTM2\")\n",
        "plt.legend()\n",
        "plt.show()"
      ],
      "metadata": {
        "id": "YXzDmjeeND3N"
      },
      "execution_count": null,
      "outputs": []
    },
    {
      "cell_type": "markdown",
      "metadata": {
        "id": "QfEXA5Rx9nWu"
      },
      "source": [
        "### Stacking recurrent layers"
      ]
    },
    {
      "cell_type": "markdown",
      "metadata": {
        "id": "OmW4Oh1E9nWu"
      },
      "source": [
        "**Training and evaluating a dropout-regularized, stacked GRU model**\n",
        "\n",
        "A Gated Recurrent Unit (GRU) layer is another type of recurrent neural network (RNN) layer that is similar to LSTM (Long Short-Term Memory) but with some variations in its architecture. GRU was introduced as a simpler alternative to LSTM, with fewer parameters and computational complexity, yet still capable of capturing long-term dependencies in sequential data."
      ]
    },
    {
      "cell_type": "code",
      "execution_count": null,
      "metadata": {
        "id": "CyALw85i9nWu",
        "colab": {
          "base_uri": "https://localhost:8080/"
        },
        "outputId": "38c769cd-9da3-49e5-bc86-8d06a002448a"
      },
      "outputs": [
        {
          "output_type": "stream",
          "name": "stderr",
          "text": [
            "WARNING:tensorflow:Layer gru_4 will not use cuDNN kernels since it doesn't meet the criteria. It will use a generic GPU kernel as fallback when running on GPU.\n",
            "WARNING:tensorflow:Layer gru_5 will not use cuDNN kernels since it doesn't meet the criteria. It will use a generic GPU kernel as fallback when running on GPU.\n"
          ]
        },
        {
          "output_type": "stream",
          "name": "stdout",
          "text": [
            "Epoch 1/5\n",
            "819/819 [==============================] - 551s 666ms/step - loss: 25.7634 - mae: 3.7399 - val_loss: 9.6591 - val_mae: 2.4182\n",
            "Epoch 2/5\n",
            "819/819 [==============================] - 550s 671ms/step - loss: 14.0301 - mae: 2.9013 - val_loss: 9.2592 - val_mae: 2.3681\n",
            "Epoch 3/5\n",
            "819/819 [==============================] - 555s 677ms/step - loss: 13.3444 - mae: 2.8332 - val_loss: 9.1182 - val_mae: 2.3465\n",
            "Epoch 4/5\n",
            "819/819 [==============================] - 541s 660ms/step - loss: 12.7838 - mae: 2.7730 - val_loss: 9.0213 - val_mae: 2.3284\n",
            "Epoch 5/5\n",
            "819/819 [==============================] - 544s 663ms/step - loss: 12.3069 - mae: 2.7236 - val_loss: 8.6501 - val_mae: 2.2817\n"
          ]
        },
        {
          "output_type": "stream",
          "name": "stderr",
          "text": [
            "WARNING:tensorflow:Layer gru_4 will not use cuDNN kernels since it doesn't meet the criteria. It will use a generic GPU kernel as fallback when running on GPU.\n",
            "WARNING:tensorflow:Layer gru_5 will not use cuDNN kernels since it doesn't meet the criteria. It will use a generic GPU kernel as fallback when running on GPU.\n"
          ]
        },
        {
          "output_type": "stream",
          "name": "stdout",
          "text": [
            "405/405 [==============================] - 43s 105ms/step - loss: 9.7202 - mae: 2.4505\n",
            "Test MAE: 2.45\n"
          ]
        }
      ],
      "source": [
        "inputs = keras.Input(shape=(sequence_length, raw_data.shape[-1]))\n",
        "x = layers.GRU(32, recurrent_dropout=0.5, return_sequences=True)(inputs)\n",
        "x = layers.GRU(32, recurrent_dropout=0.5)(x)\n",
        "x = layers.Dropout(0.5)(x)\n",
        "outputs = layers.Dense(1)(x)\n",
        "model_gru = keras.Model(inputs, outputs)\n",
        "\n",
        "callbacks = [\n",
        "    keras.callbacks.ModelCheckpoint(\"jena_stacked_gru_dropout.keras\",\n",
        "                                    save_best_only=True)\n",
        "]\n",
        "model_gru.compile(optimizer=\"rmsprop\", loss=\"mse\", metrics=[\"mae\"])\n",
        "history_gru = model_gru.fit(train_dataset,\n",
        "                    epochs=5,\n",
        "                    validation_data=val_dataset,\n",
        "                    callbacks=callbacks)\n",
        "model_gru = keras.models.load_model(\"jena_stacked_gru_dropout.keras\")\n",
        "print(f\"Test MAE: {model_gru.evaluate(test_dataset)[1]:.2f}\")"
      ]
    },
    {
      "cell_type": "code",
      "source": [
        "loss = history_gru.history[\"mae\"]\n",
        "val_loss = history_gru.history[\"val_mae\"]\n",
        "epochs = range(1, len(loss) + 1)\n",
        "plt.figure()\n",
        "plt.plot(epochs, loss, \"bo\", label=\"Training MAE\")\n",
        "plt.plot(epochs, val_loss, \"b\", label=\"Validation MAE\")\n",
        "plt.title(\"Training and validation MAE of Model_GRU\")\n",
        "plt.legend()\n",
        "plt.show()"
      ],
      "metadata": {
        "colab": {
          "base_uri": "https://localhost:8080/",
          "height": 452
        },
        "id": "UXfAMkBtNJba",
        "outputId": "c064a676-1a79-4b33-f782-16afa9047409"
      },
      "execution_count": null,
      "outputs": [
        {
          "output_type": "display_data",
          "data": {
            "text/plain": [
              "<Figure size 640x480 with 1 Axes>"
            ],
            "image/png": "[encoded data removed]"
          },
          "metadata": {}
        }
      ]
    },
    {
      "cell_type": "code",
      "source": [],
      "metadata": {
        "id": "5rKs0EIJ6m7H"
      },
      "execution_count": null,
      "outputs": []
    },
    {
      "cell_type": "markdown",
      "metadata": {
        "id": "br1nq53uEDqS"
      },
      "source": [
        "Compare the test MAE results of the 5 models above. Are you able to modify any of the networks to improve this performance?"
      ]
    },
    {
      "cell_type": "markdown",
      "metadata": {
        "id": "WWxZ5W_U9nWu"
      },
      "source": [
        "## References\n",
        "\n",
        "Chollet, F. (2017). Deep learning with python. Manning Publications."
      ]
    }
  ],
  "metadata": {
    "accelerator": "GPU",
    "colab": {
      "gpuType": "T4",
      "provenance": []
    },
    "kernelspec": {
      "display_name": "Python 3",
      "name": "python3"
    },
    "language_info": {
      "codemirror_mode": {
        "name": "ipython",
        "version": 3
      },
      "file_extension": ".py",
      "mimetype": "text/x-python",
      "name": "python",
      "nbconvert_exporter": "python",
      "pygments_lexer": "ipython3",
      "version": "3.9.15"
    }
  },
  "nbformat": 4,
  "nbformat_minor": 0
}